{
 "cells": [
  {
   "cell_type": "code",
   "execution_count": 6,
   "metadata": {},
   "outputs": [],
   "source": [
    "import rosbag_parser as rp"
   ]
  },
  {
   "cell_type": "code",
   "execution_count": 10,
   "metadata": {},
   "outputs": [
    {
     "name": "stdout",
     "output_type": "stream",
     "text": [
      "['/map_updates', '/goal_pose', '/rosout', '/parameter_events', '/cmd_vel', '/drive', '/tf', '/ego_racecar/odom', '/tf_static', '/ego_robot_description', '/joint_states', '/clock', '/initialpose', '/map', '/scan']\n"
     ]
    },
    {
     "ename": "KeyError",
     "evalue": "'ackermann_msgs/msg/AckermannDriveStamped'",
     "output_type": "error",
     "traceback": [
      "\u001b[0;31m---------------------------------------------------------------------------\u001b[0m",
      "\u001b[0;31mKeyError\u001b[0m                                  Traceback (most recent call last)",
      "Cell \u001b[0;32mIn[10], line 8\u001b[0m\n\u001b[1;32m      4\u001b[0m odom_topic \u001b[38;5;241m=\u001b[39m \u001b[38;5;124m\"\u001b[39m\u001b[38;5;124m/ego_racecar/odom\u001b[39m\u001b[38;5;124m\"\u001b[39m\n\u001b[1;32m      6\u001b[0m \u001b[38;5;28mprint\u001b[39m(rp\u001b[38;5;241m.\u001b[39mget_rosbag_topics(rosbag_path))\n\u001b[0;32m----> 8\u001b[0m bag \u001b[38;5;241m=\u001b[39m {\u001b[38;5;124m\"\u001b[39m\u001b[38;5;124mdrive\u001b[39m\u001b[38;5;124m\"\u001b[39m: \u001b[43mrp\u001b[49m\u001b[38;5;241;43m.\u001b[39;49m\u001b[43mread_rosbag_ackermann\u001b[49m\u001b[43m(\u001b[49m\u001b[43mrosbag_path\u001b[49m\u001b[43m,\u001b[49m\u001b[43m \u001b[49m\u001b[43mackermann_cmd_topic\u001b[49m\u001b[43m)\u001b[49m}\n\u001b[1;32m      9\u001b[0m bag \u001b[38;5;241m=\u001b[39m {\u001b[38;5;124m\"\u001b[39m\u001b[38;5;124mscan\u001b[39m\u001b[38;5;124m\"\u001b[39m: rp\u001b[38;5;241m.\u001b[39mread_rosbag_scan(rosbag_path, scan_topic),\n\u001b[1;32m     10\u001b[0m        \u001b[38;5;124m\"\u001b[39m\u001b[38;5;124modom\u001b[39m\u001b[38;5;124m\"\u001b[39m: rp\u001b[38;5;241m.\u001b[39mread_rosbag_odom(rosbag_path, odom_topic)}\n",
      "File \u001b[0;32m~/Documents/00_PROJECTS/bentjh01/f1tenth/performance/rosbag_parser.py:31\u001b[0m, in \u001b[0;36mread_rosbag_ackermann\u001b[0;34m(rosbag_path, topic)\u001b[0m\n\u001b[1;32m     29\u001b[0m \u001b[38;5;28;01mfor\u001b[39;00m connection, timestamp, rawdata \u001b[38;5;129;01min\u001b[39;00m reader\u001b[38;5;241m.\u001b[39mmessages():\n\u001b[1;32m     30\u001b[0m     \u001b[38;5;28;01mif\u001b[39;00m connection\u001b[38;5;241m.\u001b[39mtopic \u001b[38;5;241m==\u001b[39m topic:\n\u001b[0;32m---> 31\u001b[0m         msg \u001b[38;5;241m=\u001b[39m \u001b[43mdeserialize_cdr\u001b[49m\u001b[43m(\u001b[49m\u001b[43mrawdata\u001b[49m\u001b[43m,\u001b[49m\u001b[43m \u001b[49m\u001b[43mconnection\u001b[49m\u001b[38;5;241;43m.\u001b[39;49m\u001b[43mmsgtype\u001b[49m\u001b[43m)\u001b[49m\n\u001b[1;32m     32\u001b[0m         data\u001b[38;5;241m.\u001b[39mappend(msg)\n\u001b[1;32m     33\u001b[0m \u001b[38;5;28;01mreturn\u001b[39;00m data\n",
      "File \u001b[0;32m~/Documents/00_PROJECTS/bentjh01/f1tenth/.venv/lib/python3.9/site-packages/rosbags/serde/deprecated.py:39\u001b[0m, in \u001b[0;36mdeserialize_cdr\u001b[0;34m(rawdata, typename, typestore)\u001b[0m\n\u001b[1;32m     35\u001b[0m     \u001b[38;5;28;01mfrom\u001b[39;00m \u001b[38;5;21;01mrosbags\u001b[39;00m\u001b[38;5;21;01m.\u001b[39;00m\u001b[38;5;21;01mtypesys\u001b[39;00m\u001b[38;5;21;01m.\u001b[39;00m\u001b[38;5;21;01mdeprecated\u001b[39;00m \u001b[38;5;28;01mimport\u001b[39;00m store\n\u001b[1;32m     37\u001b[0m     typestore \u001b[38;5;241m=\u001b[39m store\n\u001b[0;32m---> 39\u001b[0m \u001b[38;5;28;01mreturn\u001b[39;00m \u001b[43mtypestore\u001b[49m\u001b[38;5;241;43m.\u001b[39;49m\u001b[43mdeserialize_cdr\u001b[49m\u001b[43m(\u001b[49m\u001b[43mrawdata\u001b[49m\u001b[43m,\u001b[49m\u001b[43m \u001b[49m\u001b[43mtypename\u001b[49m\u001b[43m)\u001b[49m\n",
      "File \u001b[0;32m~/Documents/00_PROJECTS/bentjh01/f1tenth/.venv/lib/python3.9/site-packages/rosbags/typesys/store.py:144\u001b[0m, in \u001b[0;36mTypestore.deserialize_cdr\u001b[0;34m(self, rawdata, typename)\u001b[0m\n\u001b[1;32m    132\u001b[0m \u001b[38;5;250m\u001b[39m\u001b[38;5;124;03m\"\"\"Deserialize raw data into a message object.\u001b[39;00m\n\u001b[1;32m    133\u001b[0m \n\u001b[1;32m    134\u001b[0m \u001b[38;5;124;03mArgs:\u001b[39;00m\n\u001b[0;32m   (...)\u001b[0m\n\u001b[1;32m    140\u001b[0m \n\u001b[1;32m    141\u001b[0m \u001b[38;5;124;03m\"\"\"\u001b[39;00m\n\u001b[1;32m    142\u001b[0m little_endian \u001b[38;5;241m=\u001b[39m \u001b[38;5;28mbool\u001b[39m(rawdata[\u001b[38;5;241m1\u001b[39m])\n\u001b[0;32m--> 144\u001b[0m msgdef \u001b[38;5;241m=\u001b[39m \u001b[38;5;28;43mself\u001b[39;49m\u001b[38;5;241;43m.\u001b[39;49m\u001b[43mget_msgdef\u001b[49m\u001b[43m(\u001b[49m\u001b[43mtypename\u001b[49m\u001b[43m)\u001b[49m\n\u001b[1;32m    145\u001b[0m func \u001b[38;5;241m=\u001b[39m msgdef\u001b[38;5;241m.\u001b[39mdeserialize_cdr_le \u001b[38;5;28;01mif\u001b[39;00m little_endian \u001b[38;5;28;01melse\u001b[39;00m msgdef\u001b[38;5;241m.\u001b[39mdeserialize_cdr_be\n\u001b[1;32m    146\u001b[0m message, pos \u001b[38;5;241m=\u001b[39m func(rawdata[\u001b[38;5;241m4\u001b[39m:], \u001b[38;5;241m0\u001b[39m, msgdef\u001b[38;5;241m.\u001b[39mcls, \u001b[38;5;28mself\u001b[39m)\n",
      "File \u001b[0;32m~/Documents/00_PROJECTS/bentjh01/f1tenth/.venv/lib/python3.9/site-packages/rosbags/typesys/store.py:325\u001b[0m, in \u001b[0;36mTypestore.get_msgdef\u001b[0;34m(self, typename)\u001b[0m\n\u001b[1;32m    312\u001b[0m \u001b[38;5;250m\u001b[39m\u001b[38;5;124;03m\"\"\"Retrieve message definition for typename.\u001b[39;00m\n\u001b[1;32m    313\u001b[0m \n\u001b[1;32m    314\u001b[0m \u001b[38;5;124;03mMessage definitions are cached globally and generated as needed.\u001b[39;00m\n\u001b[0;32m   (...)\u001b[0m\n\u001b[1;32m    322\u001b[0m \n\u001b[1;32m    323\u001b[0m \u001b[38;5;124;03m\"\"\"\u001b[39;00m\n\u001b[1;32m    324\u001b[0m \u001b[38;5;28;01mif\u001b[39;00m typename \u001b[38;5;129;01mnot\u001b[39;00m \u001b[38;5;129;01min\u001b[39;00m \u001b[38;5;28mself\u001b[39m\u001b[38;5;241m.\u001b[39mcache:\n\u001b[0;32m--> 325\u001b[0m     entries \u001b[38;5;241m=\u001b[39m \u001b[38;5;28;43mself\u001b[39;49m\u001b[38;5;241;43m.\u001b[39;49m\u001b[43mFIELDDEFS\u001b[49m\u001b[43m[\u001b[49m\u001b[43mtypename\u001b[49m\u001b[43m]\u001b[49m[\u001b[38;5;241m1\u001b[39m]\n\u001b[1;32m    327\u001b[0m     getsize_cdr, size_cdr \u001b[38;5;241m=\u001b[39m generate_getsize_cdr(entries, \u001b[38;5;28mself\u001b[39m)\n\u001b[1;32m    328\u001b[0m     getsize_ros1, size_ros1 \u001b[38;5;241m=\u001b[39m generate_getsize_ros1(entries, \u001b[38;5;28mself\u001b[39m)\n",
      "\u001b[0;31mKeyError\u001b[0m: 'ackermann_msgs/msg/AckermannDriveStamped'"
     ]
    }
   ],
   "source": [
    "rosbag_path = \"rosbag2_2024_10_22-13_25_55\"\n",
    "scan_topic = \"/scan\"\n",
    "ackermann_cmd_topic = \"/drive\"\n",
    "odom_topic = \"/ego_racecar/odom\"\n",
    "\n",
    "print(rp.get_rosbag_topics(rosbag_path))\n",
    "\n",
    "bag = {\"scan\": rp.read_rosbag_scan(rosbag_path, scan_topic),\n",
    "       \"odom\": rp.read_rosbag_odom(rosbag_path, odom_topic)}"
   ]
  },
  {
   "cell_type": "code",
   "execution_count": null,
   "metadata": {},
   "outputs": [],
   "source": []
  }
 ],
 "metadata": {
  "kernelspec": {
   "display_name": ".venv",
   "language": "python",
   "name": "python3"
  },
  "language_info": {
   "codemirror_mode": {
    "name": "ipython",
    "version": 3
   },
   "file_extension": ".py",
   "mimetype": "text/x-python",
   "name": "python",
   "nbconvert_exporter": "python",
   "pygments_lexer": "ipython3",
   "version": "3.9.6"
  }
 },
 "nbformat": 4,
 "nbformat_minor": 2
}
